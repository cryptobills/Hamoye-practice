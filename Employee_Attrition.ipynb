{
  "nbformat": 4,
  "nbformat_minor": 0,
  "metadata": {
    "colab": {
      "name": "Employee Attrition.ipynb",
      "provenance": [],
      "toc_visible": true,
      "authorship_tag": "ABX9TyNh4lUjXfbOk3GEqHpx5uh+"
    },
    "kernelspec": {
      "name": "python3",
      "display_name": "Python 3"
    }
  },
  "cells": [
    {
      "cell_type": "code",
      "metadata": {
        "id": "aJLikvK3NidY"
      },
      "source": [
        "#this program predicts employee attrition"
      ],
      "execution_count": 14,
      "outputs": []
    },
    {
      "cell_type": "code",
      "metadata": {
        "id": "D2NmqxxhPqb9"
      },
      "source": [
        "#import the libraries\n",
        "import pandas as pd\n",
        "import numpy as np\n",
        "import seaborn as sns\n"
      ],
      "execution_count": 15,
      "outputs": []
    },
    {
      "cell_type": "code",
      "metadata": {
        "id": "2h-Wi_NJdWXo",
        "outputId": "5159b149-62e5-4af0-fde8-b87cd67ed516",
        "colab": {
          "resources": {
            "http://localhost:8080/nbextensions/google.colab/files.js": {
              "data": "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",
              "ok": true,
              "headers": [
                [
                  "content-type",
                  "application/javascript"
                ]
              ],
              "status": 200,
              "status_text": ""
            }
          },
          "base_uri": "https://localhost:8080/",
          "height": 72
        }
      },
      "source": [
        "from google.colab import files\n",
        "upload=files.upload()"
      ],
      "execution_count": 17,
      "outputs": [
        {
          "output_type": "display_data",
          "data": {
            "text/html": [
              "\n",
              "     <input type=\"file\" id=\"files-83381682-0726-4c89-98c0-573c438945de\" name=\"files[]\" multiple disabled\n",
              "        style=\"border:none\" />\n",
              "     <output id=\"result-83381682-0726-4c89-98c0-573c438945de\">\n",
              "      Upload widget is only available when the cell has been executed in the\n",
              "      current browser session. Please rerun this cell to enable.\n",
              "      </output>\n",
              "      <script src=\"/nbextensions/google.colab/files.js\"></script> "
            ],
            "text/plain": [
              "<IPython.core.display.HTML object>"
            ]
          },
          "metadata": {
            "tags": []
          }
        },
        {
          "output_type": "stream",
          "text": [
            "Saving WA_Fn-UseC_-HR-Employee-Attrition.csv to WA_Fn-UseC_-HR-Employee-Attrition.csv\n"
          ],
          "name": "stdout"
        }
      ]
    },
    {
      "cell_type": "code",
      "metadata": {
        "id": "sBDvbQhcfpF6"
      },
      "source": [
        "df=pd.read_csv('WA_Fn-UseC_-HR-Employee-Attrition.csv')"
      ],
      "execution_count": 19,
      "outputs": []
    },
    {
      "cell_type": "code",
      "metadata": {
        "id": "Q1jnsWhzgEOV",
        "outputId": "91d7880d-9b73-4ee8-ef75-6ae7e1c00eaf",
        "colab": {
          "base_uri": "https://localhost:8080/",
          "height": 309
        }
      },
      "source": [
        "df.head(\n",
        "    \n",
        ")"
      ],
      "execution_count": 20,
      "outputs": [
        {
          "output_type": "execute_result",
          "data": {
            "text/html": [
              "<div>\n",
              "<style scoped>\n",
              "    .dataframe tbody tr th:only-of-type {\n",
              "        vertical-align: middle;\n",
              "    }\n",
              "\n",
              "    .dataframe tbody tr th {\n",
              "        vertical-align: top;\n",
              "    }\n",
              "\n",
              "    .dataframe thead th {\n",
              "        text-align: right;\n",
              "    }\n",
              "</style>\n",
              "<table border=\"1\" class=\"dataframe\">\n",
              "  <thead>\n",
              "    <tr style=\"text-align: right;\">\n",
              "      <th></th>\n",
              "      <th>Age</th>\n",
              "      <th>Attrition</th>\n",
              "      <th>BusinessTravel</th>\n",
              "      <th>DailyRate</th>\n",
              "      <th>Department</th>\n",
              "      <th>DistanceFromHome</th>\n",
              "      <th>Education</th>\n",
              "      <th>EducationField</th>\n",
              "      <th>EmployeeCount</th>\n",
              "      <th>EmployeeNumber</th>\n",
              "      <th>EnvironmentSatisfaction</th>\n",
              "      <th>Gender</th>\n",
              "      <th>HourlyRate</th>\n",
              "      <th>JobInvolvement</th>\n",
              "      <th>JobLevel</th>\n",
              "      <th>JobRole</th>\n",
              "      <th>JobSatisfaction</th>\n",
              "      <th>MaritalStatus</th>\n",
              "      <th>MonthlyIncome</th>\n",
              "      <th>MonthlyRate</th>\n",
              "      <th>NumCompaniesWorked</th>\n",
              "      <th>Over18</th>\n",
              "      <th>OverTime</th>\n",
              "      <th>PercentSalaryHike</th>\n",
              "      <th>PerformanceRating</th>\n",
              "      <th>RelationshipSatisfaction</th>\n",
              "      <th>StandardHours</th>\n",
              "      <th>StockOptionLevel</th>\n",
              "      <th>TotalWorkingYears</th>\n",
              "      <th>TrainingTimesLastYear</th>\n",
              "      <th>WorkLifeBalance</th>\n",
              "      <th>YearsAtCompany</th>\n",
              "      <th>YearsInCurrentRole</th>\n",
              "      <th>YearsSinceLastPromotion</th>\n",
              "      <th>YearsWithCurrManager</th>\n",
              "    </tr>\n",
              "  </thead>\n",
              "  <tbody>\n",
              "    <tr>\n",
              "      <th>0</th>\n",
              "      <td>41</td>\n",
              "      <td>Yes</td>\n",
              "      <td>Travel_Rarely</td>\n",
              "      <td>1102</td>\n",
              "      <td>Sales</td>\n",
              "      <td>1</td>\n",
              "      <td>2</td>\n",
              "      <td>Life Sciences</td>\n",
              "      <td>1</td>\n",
              "      <td>1</td>\n",
              "      <td>2</td>\n",
              "      <td>Female</td>\n",
              "      <td>94</td>\n",
              "      <td>3</td>\n",
              "      <td>2</td>\n",
              "      <td>Sales Executive</td>\n",
              "      <td>4</td>\n",
              "      <td>Single</td>\n",
              "      <td>5993</td>\n",
              "      <td>19479</td>\n",
              "      <td>8</td>\n",
              "      <td>Y</td>\n",
              "      <td>Yes</td>\n",
              "      <td>11</td>\n",
              "      <td>3</td>\n",
              "      <td>1</td>\n",
              "      <td>80</td>\n",
              "      <td>0</td>\n",
              "      <td>8</td>\n",
              "      <td>0</td>\n",
              "      <td>1</td>\n",
              "      <td>6</td>\n",
              "      <td>4</td>\n",
              "      <td>0</td>\n",
              "      <td>5</td>\n",
              "    </tr>\n",
              "    <tr>\n",
              "      <th>1</th>\n",
              "      <td>49</td>\n",
              "      <td>No</td>\n",
              "      <td>Travel_Frequently</td>\n",
              "      <td>279</td>\n",
              "      <td>Research &amp; Development</td>\n",
              "      <td>8</td>\n",
              "      <td>1</td>\n",
              "      <td>Life Sciences</td>\n",
              "      <td>1</td>\n",
              "      <td>2</td>\n",
              "      <td>3</td>\n",
              "      <td>Male</td>\n",
              "      <td>61</td>\n",
              "      <td>2</td>\n",
              "      <td>2</td>\n",
              "      <td>Research Scientist</td>\n",
              "      <td>2</td>\n",
              "      <td>Married</td>\n",
              "      <td>5130</td>\n",
              "      <td>24907</td>\n",
              "      <td>1</td>\n",
              "      <td>Y</td>\n",
              "      <td>No</td>\n",
              "      <td>23</td>\n",
              "      <td>4</td>\n",
              "      <td>4</td>\n",
              "      <td>80</td>\n",
              "      <td>1</td>\n",
              "      <td>10</td>\n",
              "      <td>3</td>\n",
              "      <td>3</td>\n",
              "      <td>10</td>\n",
              "      <td>7</td>\n",
              "      <td>1</td>\n",
              "      <td>7</td>\n",
              "    </tr>\n",
              "    <tr>\n",
              "      <th>2</th>\n",
              "      <td>37</td>\n",
              "      <td>Yes</td>\n",
              "      <td>Travel_Rarely</td>\n",
              "      <td>1373</td>\n",
              "      <td>Research &amp; Development</td>\n",
              "      <td>2</td>\n",
              "      <td>2</td>\n",
              "      <td>Other</td>\n",
              "      <td>1</td>\n",
              "      <td>4</td>\n",
              "      <td>4</td>\n",
              "      <td>Male</td>\n",
              "      <td>92</td>\n",
              "      <td>2</td>\n",
              "      <td>1</td>\n",
              "      <td>Laboratory Technician</td>\n",
              "      <td>3</td>\n",
              "      <td>Single</td>\n",
              "      <td>2090</td>\n",
              "      <td>2396</td>\n",
              "      <td>6</td>\n",
              "      <td>Y</td>\n",
              "      <td>Yes</td>\n",
              "      <td>15</td>\n",
              "      <td>3</td>\n",
              "      <td>2</td>\n",
              "      <td>80</td>\n",
              "      <td>0</td>\n",
              "      <td>7</td>\n",
              "      <td>3</td>\n",
              "      <td>3</td>\n",
              "      <td>0</td>\n",
              "      <td>0</td>\n",
              "      <td>0</td>\n",
              "      <td>0</td>\n",
              "    </tr>\n",
              "    <tr>\n",
              "      <th>3</th>\n",
              "      <td>33</td>\n",
              "      <td>No</td>\n",
              "      <td>Travel_Frequently</td>\n",
              "      <td>1392</td>\n",
              "      <td>Research &amp; Development</td>\n",
              "      <td>3</td>\n",
              "      <td>4</td>\n",
              "      <td>Life Sciences</td>\n",
              "      <td>1</td>\n",
              "      <td>5</td>\n",
              "      <td>4</td>\n",
              "      <td>Female</td>\n",
              "      <td>56</td>\n",
              "      <td>3</td>\n",
              "      <td>1</td>\n",
              "      <td>Research Scientist</td>\n",
              "      <td>3</td>\n",
              "      <td>Married</td>\n",
              "      <td>2909</td>\n",
              "      <td>23159</td>\n",
              "      <td>1</td>\n",
              "      <td>Y</td>\n",
              "      <td>Yes</td>\n",
              "      <td>11</td>\n",
              "      <td>3</td>\n",
              "      <td>3</td>\n",
              "      <td>80</td>\n",
              "      <td>0</td>\n",
              "      <td>8</td>\n",
              "      <td>3</td>\n",
              "      <td>3</td>\n",
              "      <td>8</td>\n",
              "      <td>7</td>\n",
              "      <td>3</td>\n",
              "      <td>0</td>\n",
              "    </tr>\n",
              "    <tr>\n",
              "      <th>4</th>\n",
              "      <td>27</td>\n",
              "      <td>No</td>\n",
              "      <td>Travel_Rarely</td>\n",
              "      <td>591</td>\n",
              "      <td>Research &amp; Development</td>\n",
              "      <td>2</td>\n",
              "      <td>1</td>\n",
              "      <td>Medical</td>\n",
              "      <td>1</td>\n",
              "      <td>7</td>\n",
              "      <td>1</td>\n",
              "      <td>Male</td>\n",
              "      <td>40</td>\n",
              "      <td>3</td>\n",
              "      <td>1</td>\n",
              "      <td>Laboratory Technician</td>\n",
              "      <td>2</td>\n",
              "      <td>Married</td>\n",
              "      <td>3468</td>\n",
              "      <td>16632</td>\n",
              "      <td>9</td>\n",
              "      <td>Y</td>\n",
              "      <td>No</td>\n",
              "      <td>12</td>\n",
              "      <td>3</td>\n",
              "      <td>4</td>\n",
              "      <td>80</td>\n",
              "      <td>1</td>\n",
              "      <td>6</td>\n",
              "      <td>3</td>\n",
              "      <td>3</td>\n",
              "      <td>2</td>\n",
              "      <td>2</td>\n",
              "      <td>2</td>\n",
              "      <td>2</td>\n",
              "    </tr>\n",
              "  </tbody>\n",
              "</table>\n",
              "</div>"
            ],
            "text/plain": [
              "   Age Attrition  ... YearsSinceLastPromotion  YearsWithCurrManager\n",
              "0   41       Yes  ...                       0                     5\n",
              "1   49        No  ...                       1                     7\n",
              "2   37       Yes  ...                       0                     0\n",
              "3   33        No  ...                       3                     0\n",
              "4   27        No  ...                       2                     2\n",
              "\n",
              "[5 rows x 35 columns]"
            ]
          },
          "metadata": {
            "tags": []
          },
          "execution_count": 20
        }
      ]
    },
    {
      "cell_type": "code",
      "metadata": {
        "id": "zc8A0W-YgIV8",
        "outputId": "23105d07-0f18-465c-af3b-711acbd61257",
        "colab": {
          "base_uri": "https://localhost:8080/",
          "height": 317
        }
      },
      "source": [
        "df.describe()"
      ],
      "execution_count": 21,
      "outputs": [
        {
          "output_type": "execute_result",
          "data": {
            "text/html": [
              "<div>\n",
              "<style scoped>\n",
              "    .dataframe tbody tr th:only-of-type {\n",
              "        vertical-align: middle;\n",
              "    }\n",
              "\n",
              "    .dataframe tbody tr th {\n",
              "        vertical-align: top;\n",
              "    }\n",
              "\n",
              "    .dataframe thead th {\n",
              "        text-align: right;\n",
              "    }\n",
              "</style>\n",
              "<table border=\"1\" class=\"dataframe\">\n",
              "  <thead>\n",
              "    <tr style=\"text-align: right;\">\n",
              "      <th></th>\n",
              "      <th>Age</th>\n",
              "      <th>DailyRate</th>\n",
              "      <th>DistanceFromHome</th>\n",
              "      <th>Education</th>\n",
              "      <th>EmployeeCount</th>\n",
              "      <th>EmployeeNumber</th>\n",
              "      <th>EnvironmentSatisfaction</th>\n",
              "      <th>HourlyRate</th>\n",
              "      <th>JobInvolvement</th>\n",
              "      <th>JobLevel</th>\n",
              "      <th>JobSatisfaction</th>\n",
              "      <th>MonthlyIncome</th>\n",
              "      <th>MonthlyRate</th>\n",
              "      <th>NumCompaniesWorked</th>\n",
              "      <th>PercentSalaryHike</th>\n",
              "      <th>PerformanceRating</th>\n",
              "      <th>RelationshipSatisfaction</th>\n",
              "      <th>StandardHours</th>\n",
              "      <th>StockOptionLevel</th>\n",
              "      <th>TotalWorkingYears</th>\n",
              "      <th>TrainingTimesLastYear</th>\n",
              "      <th>WorkLifeBalance</th>\n",
              "      <th>YearsAtCompany</th>\n",
              "      <th>YearsInCurrentRole</th>\n",
              "      <th>YearsSinceLastPromotion</th>\n",
              "      <th>YearsWithCurrManager</th>\n",
              "    </tr>\n",
              "  </thead>\n",
              "  <tbody>\n",
              "    <tr>\n",
              "      <th>count</th>\n",
              "      <td>1470.000000</td>\n",
              "      <td>1470.000000</td>\n",
              "      <td>1470.000000</td>\n",
              "      <td>1470.000000</td>\n",
              "      <td>1470.0</td>\n",
              "      <td>1470.000000</td>\n",
              "      <td>1470.000000</td>\n",
              "      <td>1470.000000</td>\n",
              "      <td>1470.000000</td>\n",
              "      <td>1470.000000</td>\n",
              "      <td>1470.000000</td>\n",
              "      <td>1470.000000</td>\n",
              "      <td>1470.000000</td>\n",
              "      <td>1470.000000</td>\n",
              "      <td>1470.000000</td>\n",
              "      <td>1470.000000</td>\n",
              "      <td>1470.000000</td>\n",
              "      <td>1470.0</td>\n",
              "      <td>1470.000000</td>\n",
              "      <td>1470.000000</td>\n",
              "      <td>1470.000000</td>\n",
              "      <td>1470.000000</td>\n",
              "      <td>1470.000000</td>\n",
              "      <td>1470.000000</td>\n",
              "      <td>1470.000000</td>\n",
              "      <td>1470.000000</td>\n",
              "    </tr>\n",
              "    <tr>\n",
              "      <th>mean</th>\n",
              "      <td>36.923810</td>\n",
              "      <td>802.485714</td>\n",
              "      <td>9.192517</td>\n",
              "      <td>2.912925</td>\n",
              "      <td>1.0</td>\n",
              "      <td>1024.865306</td>\n",
              "      <td>2.721769</td>\n",
              "      <td>65.891156</td>\n",
              "      <td>2.729932</td>\n",
              "      <td>2.063946</td>\n",
              "      <td>2.728571</td>\n",
              "      <td>6502.931293</td>\n",
              "      <td>14313.103401</td>\n",
              "      <td>2.693197</td>\n",
              "      <td>15.209524</td>\n",
              "      <td>3.153741</td>\n",
              "      <td>2.712245</td>\n",
              "      <td>80.0</td>\n",
              "      <td>0.793878</td>\n",
              "      <td>11.279592</td>\n",
              "      <td>2.799320</td>\n",
              "      <td>2.761224</td>\n",
              "      <td>7.008163</td>\n",
              "      <td>4.229252</td>\n",
              "      <td>2.187755</td>\n",
              "      <td>4.123129</td>\n",
              "    </tr>\n",
              "    <tr>\n",
              "      <th>std</th>\n",
              "      <td>9.135373</td>\n",
              "      <td>403.509100</td>\n",
              "      <td>8.106864</td>\n",
              "      <td>1.024165</td>\n",
              "      <td>0.0</td>\n",
              "      <td>602.024335</td>\n",
              "      <td>1.093082</td>\n",
              "      <td>20.329428</td>\n",
              "      <td>0.711561</td>\n",
              "      <td>1.106940</td>\n",
              "      <td>1.102846</td>\n",
              "      <td>4707.956783</td>\n",
              "      <td>7117.786044</td>\n",
              "      <td>2.498009</td>\n",
              "      <td>3.659938</td>\n",
              "      <td>0.360824</td>\n",
              "      <td>1.081209</td>\n",
              "      <td>0.0</td>\n",
              "      <td>0.852077</td>\n",
              "      <td>7.780782</td>\n",
              "      <td>1.289271</td>\n",
              "      <td>0.706476</td>\n",
              "      <td>6.126525</td>\n",
              "      <td>3.623137</td>\n",
              "      <td>3.222430</td>\n",
              "      <td>3.568136</td>\n",
              "    </tr>\n",
              "    <tr>\n",
              "      <th>min</th>\n",
              "      <td>18.000000</td>\n",
              "      <td>102.000000</td>\n",
              "      <td>1.000000</td>\n",
              "      <td>1.000000</td>\n",
              "      <td>1.0</td>\n",
              "      <td>1.000000</td>\n",
              "      <td>1.000000</td>\n",
              "      <td>30.000000</td>\n",
              "      <td>1.000000</td>\n",
              "      <td>1.000000</td>\n",
              "      <td>1.000000</td>\n",
              "      <td>1009.000000</td>\n",
              "      <td>2094.000000</td>\n",
              "      <td>0.000000</td>\n",
              "      <td>11.000000</td>\n",
              "      <td>3.000000</td>\n",
              "      <td>1.000000</td>\n",
              "      <td>80.0</td>\n",
              "      <td>0.000000</td>\n",
              "      <td>0.000000</td>\n",
              "      <td>0.000000</td>\n",
              "      <td>1.000000</td>\n",
              "      <td>0.000000</td>\n",
              "      <td>0.000000</td>\n",
              "      <td>0.000000</td>\n",
              "      <td>0.000000</td>\n",
              "    </tr>\n",
              "    <tr>\n",
              "      <th>25%</th>\n",
              "      <td>30.000000</td>\n",
              "      <td>465.000000</td>\n",
              "      <td>2.000000</td>\n",
              "      <td>2.000000</td>\n",
              "      <td>1.0</td>\n",
              "      <td>491.250000</td>\n",
              "      <td>2.000000</td>\n",
              "      <td>48.000000</td>\n",
              "      <td>2.000000</td>\n",
              "      <td>1.000000</td>\n",
              "      <td>2.000000</td>\n",
              "      <td>2911.000000</td>\n",
              "      <td>8047.000000</td>\n",
              "      <td>1.000000</td>\n",
              "      <td>12.000000</td>\n",
              "      <td>3.000000</td>\n",
              "      <td>2.000000</td>\n",
              "      <td>80.0</td>\n",
              "      <td>0.000000</td>\n",
              "      <td>6.000000</td>\n",
              "      <td>2.000000</td>\n",
              "      <td>2.000000</td>\n",
              "      <td>3.000000</td>\n",
              "      <td>2.000000</td>\n",
              "      <td>0.000000</td>\n",
              "      <td>2.000000</td>\n",
              "    </tr>\n",
              "    <tr>\n",
              "      <th>50%</th>\n",
              "      <td>36.000000</td>\n",
              "      <td>802.000000</td>\n",
              "      <td>7.000000</td>\n",
              "      <td>3.000000</td>\n",
              "      <td>1.0</td>\n",
              "      <td>1020.500000</td>\n",
              "      <td>3.000000</td>\n",
              "      <td>66.000000</td>\n",
              "      <td>3.000000</td>\n",
              "      <td>2.000000</td>\n",
              "      <td>3.000000</td>\n",
              "      <td>4919.000000</td>\n",
              "      <td>14235.500000</td>\n",
              "      <td>2.000000</td>\n",
              "      <td>14.000000</td>\n",
              "      <td>3.000000</td>\n",
              "      <td>3.000000</td>\n",
              "      <td>80.0</td>\n",
              "      <td>1.000000</td>\n",
              "      <td>10.000000</td>\n",
              "      <td>3.000000</td>\n",
              "      <td>3.000000</td>\n",
              "      <td>5.000000</td>\n",
              "      <td>3.000000</td>\n",
              "      <td>1.000000</td>\n",
              "      <td>3.000000</td>\n",
              "    </tr>\n",
              "    <tr>\n",
              "      <th>75%</th>\n",
              "      <td>43.000000</td>\n",
              "      <td>1157.000000</td>\n",
              "      <td>14.000000</td>\n",
              "      <td>4.000000</td>\n",
              "      <td>1.0</td>\n",
              "      <td>1555.750000</td>\n",
              "      <td>4.000000</td>\n",
              "      <td>83.750000</td>\n",
              "      <td>3.000000</td>\n",
              "      <td>3.000000</td>\n",
              "      <td>4.000000</td>\n",
              "      <td>8379.000000</td>\n",
              "      <td>20461.500000</td>\n",
              "      <td>4.000000</td>\n",
              "      <td>18.000000</td>\n",
              "      <td>3.000000</td>\n",
              "      <td>4.000000</td>\n",
              "      <td>80.0</td>\n",
              "      <td>1.000000</td>\n",
              "      <td>15.000000</td>\n",
              "      <td>3.000000</td>\n",
              "      <td>3.000000</td>\n",
              "      <td>9.000000</td>\n",
              "      <td>7.000000</td>\n",
              "      <td>3.000000</td>\n",
              "      <td>7.000000</td>\n",
              "    </tr>\n",
              "    <tr>\n",
              "      <th>max</th>\n",
              "      <td>60.000000</td>\n",
              "      <td>1499.000000</td>\n",
              "      <td>29.000000</td>\n",
              "      <td>5.000000</td>\n",
              "      <td>1.0</td>\n",
              "      <td>2068.000000</td>\n",
              "      <td>4.000000</td>\n",
              "      <td>100.000000</td>\n",
              "      <td>4.000000</td>\n",
              "      <td>5.000000</td>\n",
              "      <td>4.000000</td>\n",
              "      <td>19999.000000</td>\n",
              "      <td>26999.000000</td>\n",
              "      <td>9.000000</td>\n",
              "      <td>25.000000</td>\n",
              "      <td>4.000000</td>\n",
              "      <td>4.000000</td>\n",
              "      <td>80.0</td>\n",
              "      <td>3.000000</td>\n",
              "      <td>40.000000</td>\n",
              "      <td>6.000000</td>\n",
              "      <td>4.000000</td>\n",
              "      <td>40.000000</td>\n",
              "      <td>18.000000</td>\n",
              "      <td>15.000000</td>\n",
              "      <td>17.000000</td>\n",
              "    </tr>\n",
              "  </tbody>\n",
              "</table>\n",
              "</div>"
            ],
            "text/plain": [
              "               Age    DailyRate  ...  YearsSinceLastPromotion  YearsWithCurrManager\n",
              "count  1470.000000  1470.000000  ...              1470.000000           1470.000000\n",
              "mean     36.923810   802.485714  ...                 2.187755              4.123129\n",
              "std       9.135373   403.509100  ...                 3.222430              3.568136\n",
              "min      18.000000   102.000000  ...                 0.000000              0.000000\n",
              "25%      30.000000   465.000000  ...                 0.000000              2.000000\n",
              "50%      36.000000   802.000000  ...                 1.000000              3.000000\n",
              "75%      43.000000  1157.000000  ...                 3.000000              7.000000\n",
              "max      60.000000  1499.000000  ...                15.000000             17.000000\n",
              "\n",
              "[8 rows x 26 columns]"
            ]
          },
          "metadata": {
            "tags": []
          },
          "execution_count": 21
        }
      ]
    },
    {
      "cell_type": "code",
      "metadata": {
        "id": "klrjFGAygOg3",
        "outputId": "2ee7edb4-90cc-4d70-8833-d86f38a90e5c",
        "colab": {
          "base_uri": "https://localhost:8080/"
        }
      },
      "source": [
        "df.info()"
      ],
      "execution_count": 23,
      "outputs": [
        {
          "output_type": "stream",
          "text": [
            "<class 'pandas.core.frame.DataFrame'>\n",
            "RangeIndex: 1470 entries, 0 to 1469\n",
            "Data columns (total 35 columns):\n",
            " #   Column                    Non-Null Count  Dtype \n",
            "---  ------                    --------------  ----- \n",
            " 0   Age                       1470 non-null   int64 \n",
            " 1   Attrition                 1470 non-null   object\n",
            " 2   BusinessTravel            1470 non-null   object\n",
            " 3   DailyRate                 1470 non-null   int64 \n",
            " 4   Department                1470 non-null   object\n",
            " 5   DistanceFromHome          1470 non-null   int64 \n",
            " 6   Education                 1470 non-null   int64 \n",
            " 7   EducationField            1470 non-null   object\n",
            " 8   EmployeeCount             1470 non-null   int64 \n",
            " 9   EmployeeNumber            1470 non-null   int64 \n",
            " 10  EnvironmentSatisfaction   1470 non-null   int64 \n",
            " 11  Gender                    1470 non-null   object\n",
            " 12  HourlyRate                1470 non-null   int64 \n",
            " 13  JobInvolvement            1470 non-null   int64 \n",
            " 14  JobLevel                  1470 non-null   int64 \n",
            " 15  JobRole                   1470 non-null   object\n",
            " 16  JobSatisfaction           1470 non-null   int64 \n",
            " 17  MaritalStatus             1470 non-null   object\n",
            " 18  MonthlyIncome             1470 non-null   int64 \n",
            " 19  MonthlyRate               1470 non-null   int64 \n",
            " 20  NumCompaniesWorked        1470 non-null   int64 \n",
            " 21  Over18                    1470 non-null   object\n",
            " 22  OverTime                  1470 non-null   object\n",
            " 23  PercentSalaryHike         1470 non-null   int64 \n",
            " 24  PerformanceRating         1470 non-null   int64 \n",
            " 25  RelationshipSatisfaction  1470 non-null   int64 \n",
            " 26  StandardHours             1470 non-null   int64 \n",
            " 27  StockOptionLevel          1470 non-null   int64 \n",
            " 28  TotalWorkingYears         1470 non-null   int64 \n",
            " 29  TrainingTimesLastYear     1470 non-null   int64 \n",
            " 30  WorkLifeBalance           1470 non-null   int64 \n",
            " 31  YearsAtCompany            1470 non-null   int64 \n",
            " 32  YearsInCurrentRole        1470 non-null   int64 \n",
            " 33  YearsSinceLastPromotion   1470 non-null   int64 \n",
            " 34  YearsWithCurrManager      1470 non-null   int64 \n",
            "dtypes: int64(26), object(9)\n",
            "memory usage: 402.1+ KB\n"
          ],
          "name": "stdout"
        }
      ]
    },
    {
      "cell_type": "code",
      "metadata": {
        "id": "gJDlk9JAgXqN",
        "outputId": "1f7427c3-7f69-4a57-8a90-3c338cd21e8f",
        "colab": {
          "base_uri": "https://localhost:8080/"
        }
      },
      "source": [
        "df.shape"
      ],
      "execution_count": 24,
      "outputs": [
        {
          "output_type": "execute_result",
          "data": {
            "text/plain": [
              "(1470, 35)"
            ]
          },
          "metadata": {
            "tags": []
          },
          "execution_count": 24
        }
      ]
    },
    {
      "cell_type": "code",
      "metadata": {
        "id": "D_3ZGGGYg0AL",
        "outputId": "ee5595bd-38f2-4c94-cbfa-d63acbd45200",
        "colab": {
          "base_uri": "https://localhost:8080/"
        }
      },
      "source": [
        "df.columns"
      ],
      "execution_count": 25,
      "outputs": [
        {
          "output_type": "execute_result",
          "data": {
            "text/plain": [
              "Index(['Age', 'Attrition', 'BusinessTravel', 'DailyRate', 'Department',\n",
              "       'DistanceFromHome', 'Education', 'EducationField', 'EmployeeCount',\n",
              "       'EmployeeNumber', 'EnvironmentSatisfaction', 'Gender', 'HourlyRate',\n",
              "       'JobInvolvement', 'JobLevel', 'JobRole', 'JobSatisfaction',\n",
              "       'MaritalStatus', 'MonthlyIncome', 'MonthlyRate', 'NumCompaniesWorked',\n",
              "       'Over18', 'OverTime', 'PercentSalaryHike', 'PerformanceRating',\n",
              "       'RelationshipSatisfaction', 'StandardHours', 'StockOptionLevel',\n",
              "       'TotalWorkingYears', 'TrainingTimesLastYear', 'WorkLifeBalance',\n",
              "       'YearsAtCompany', 'YearsInCurrentRole', 'YearsSinceLastPromotion',\n",
              "       'YearsWithCurrManager'],\n",
              "      dtype='object')"
            ]
          },
          "metadata": {
            "tags": []
          },
          "execution_count": 25
        }
      ]
    },
    {
      "cell_type": "code",
      "metadata": {
        "id": "XwaDEHp4g1yM",
        "outputId": "0fb49be0-0a52-4dee-bf31-502e6d947fd3",
        "colab": {
          "base_uri": "https://localhost:8080/"
        }
      },
      "source": [
        "df.isna().sum()"
      ],
      "execution_count": 26,
      "outputs": [
        {
          "output_type": "execute_result",
          "data": {
            "text/plain": [
              "Age                         0\n",
              "Attrition                   0\n",
              "BusinessTravel              0\n",
              "DailyRate                   0\n",
              "Department                  0\n",
              "DistanceFromHome            0\n",
              "Education                   0\n",
              "EducationField              0\n",
              "EmployeeCount               0\n",
              "EmployeeNumber              0\n",
              "EnvironmentSatisfaction     0\n",
              "Gender                      0\n",
              "HourlyRate                  0\n",
              "JobInvolvement              0\n",
              "JobLevel                    0\n",
              "JobRole                     0\n",
              "JobSatisfaction             0\n",
              "MaritalStatus               0\n",
              "MonthlyIncome               0\n",
              "MonthlyRate                 0\n",
              "NumCompaniesWorked          0\n",
              "Over18                      0\n",
              "OverTime                    0\n",
              "PercentSalaryHike           0\n",
              "PerformanceRating           0\n",
              "RelationshipSatisfaction    0\n",
              "StandardHours               0\n",
              "StockOptionLevel            0\n",
              "TotalWorkingYears           0\n",
              "TrainingTimesLastYear       0\n",
              "WorkLifeBalance             0\n",
              "YearsAtCompany              0\n",
              "YearsInCurrentRole          0\n",
              "YearsSinceLastPromotion     0\n",
              "YearsWithCurrManager        0\n",
              "dtype: int64"
            ]
          },
          "metadata": {
            "tags": []
          },
          "execution_count": 26
        }
      ]
    },
    {
      "cell_type": "code",
      "metadata": {
        "id": "qp9_uMVmg7VE",
        "outputId": "26b39220-5953-4761-94bb-d3c40106d518",
        "colab": {
          "base_uri": "https://localhost:8080/"
        }
      },
      "source": [
        "df.isnull().values.any()"
      ],
      "execution_count": 27,
      "outputs": [
        {
          "output_type": "execute_result",
          "data": {
            "text/plain": [
              "False"
            ]
          },
          "metadata": {
            "tags": []
          },
          "execution_count": 27
        }
      ]
    },
    {
      "cell_type": "code",
      "metadata": {
        "id": "E3XbAylAhA1K",
        "outputId": "e0b8ede7-799d-4428-f11e-12d0a2f9b2fd",
        "colab": {
          "base_uri": "https://localhost:8080/"
        }
      },
      "source": [
        "df.Attrition.value_counts()"
      ],
      "execution_count": 28,
      "outputs": [
        {
          "output_type": "execute_result",
          "data": {
            "text/plain": [
              "No     1233\n",
              "Yes     237\n",
              "Name: Attrition, dtype: int64"
            ]
          },
          "metadata": {
            "tags": []
          },
          "execution_count": 28
        }
      ]
    },
    {
      "cell_type": "code",
      "metadata": {
        "id": "6qkpEe8zhG4z",
        "outputId": "2ed28dcc-935d-4cb3-97ab-6ba26ab63b56",
        "colab": {
          "base_uri": "https://localhost:8080/",
          "height": 350
        }
      },
      "source": [
        "sns.countplot(df['Attrition'])"
      ],
      "execution_count": 29,
      "outputs": [
        {
          "output_type": "stream",
          "text": [
            "/usr/local/lib/python3.6/dist-packages/seaborn/_decorators.py:43: FutureWarning: Pass the following variable as a keyword arg: x. From version 0.12, the only valid positional argument will be `data`, and passing other arguments without an explicit keyword will result in an error or misinterpretation.\n",
            "  FutureWarning\n"
          ],
          "name": "stderr"
        },
        {
          "output_type": "execute_result",
          "data": {
            "text/plain": [
              "<matplotlib.axes._subplots.AxesSubplot at 0x7f949b97ca20>"
            ]
          },
          "metadata": {
            "tags": []
          },
          "execution_count": 29
        },
        {
          "output_type": "display_data",
          "data": {
            "image/png": "[encoded data removed]",
            "text/plain": [
              "<Figure size 432x288 with 1 Axes>"
            ]
          },
          "metadata": {
            "tags": [],
            "needs_background": "light"
          }
        }
      ]
    },
    {
      "cell_type": "code",
      "metadata": {
        "id": "R__jNvCDhNpK",
        "outputId": "adf049a1-4e51-4a0a-a0b3-a86f27b113e9",
        "colab": {
          "base_uri": "https://localhost:8080/",
          "height": 296
        }
      },
      "source": [
        "import matplotlib.pyplot as plt\n",
        "plt.subplots(figsize=(12,4))\n",
        "sns.countplot(x='Age',hue='Attrition',data=df,palette='colorblind')"
      ],
      "execution_count": 37,
      "outputs": [
        {
          "output_type": "execute_result",
          "data": {
            "text/plain": [
              "<matplotlib.axes._subplots.AxesSubplot at 0x7f9492e1e8d0>"
            ]
          },
          "metadata": {
            "tags": []
          },
          "execution_count": 37
        },
        {
          "output_type": "display_data",
          "data": {
            "image/png": "[encoded data removed]",
            "text/plain": [
              "<Figure size 864x288 with 1 Axes>"
            ]
          },
          "metadata": {
            "tags": [],
            "needs_background": "light"
          }
        }
      ]
    },
    {
      "cell_type": "code",
      "metadata": {
        "id": "YX-SjeTSiY3H",
        "outputId": "91e9d2ae-5324-4e9a-d890-b69d7a3292e9",
        "colab": {
          "base_uri": "https://localhost:8080/",
          "height": 296
        }
      },
      "source": [
        "import matplotlib.pyplot as plt\n",
        "plt.subplots(figsize=(10,4))\n",
        "sns.countplot(x='Gender',hue='Attrition',data=df,palette='colorblind')"
      ],
      "execution_count": 39,
      "outputs": [
        {
          "output_type": "execute_result",
          "data": {
            "text/plain": [
              "<matplotlib.axes._subplots.AxesSubplot at 0x7f9492c96a20>"
            ]
          },
          "metadata": {
            "tags": []
          },
          "execution_count": 39
        },
        {
          "output_type": "display_data",
          "data": {
            "image/png": "[encoded data removed]",
            "text/plain": [
              "<Figure size 720x288 with 1 Axes>"
            ]
          },
          "metadata": {
            "tags": [],
            "needs_background": "light"
          }
        }
      ]
    },
    {
      "cell_type": "code",
      "metadata": {
        "id": "mtJBnQpDkLhi",
        "outputId": "68a22f77-d517-4976-d55c-a6f160a629a8",
        "colab": {
          "base_uri": "https://localhost:8080/"
        }
      },
      "source": [
        "for column in df.columns:\n",
        "  if df[column].dtype==object:\n",
        "    print(str(column)+ ':'+ str(df[column].unique()))\n",
        "    print(df[column].value_counts())\n",
        "    print('_____________________________________')"
      ],
      "execution_count": 47,
      "outputs": [
        {
          "output_type": "stream",
          "text": [
            "Attrition:['Yes' 'No']\n",
            "No     1233\n",
            "Yes     237\n",
            "Name: Attrition, dtype: int64\n",
            "_____________________________________\n",
            "BusinessTravel:['Travel_Rarely' 'Travel_Frequently' 'Non-Travel']\n",
            "Travel_Rarely        1043\n",
            "Travel_Frequently     277\n",
            "Non-Travel            150\n",
            "Name: BusinessTravel, dtype: int64\n",
            "_____________________________________\n",
            "Department:['Sales' 'Research & Development' 'Human Resources']\n",
            "Research & Development    961\n",
            "Sales                     446\n",
            "Human Resources            63\n",
            "Name: Department, dtype: int64\n",
            "_____________________________________\n",
            "EducationField:['Life Sciences' 'Other' 'Medical' 'Marketing' 'Technical Degree'\n",
            " 'Human Resources']\n",
            "Life Sciences       606\n",
            "Medical             464\n",
            "Marketing           159\n",
            "Technical Degree    132\n",
            "Other                82\n",
            "Human Resources      27\n",
            "Name: EducationField, dtype: int64\n",
            "_____________________________________\n",
            "Gender:['Female' 'Male']\n",
            "Male      882\n",
            "Female    588\n",
            "Name: Gender, dtype: int64\n",
            "_____________________________________\n",
            "JobRole:['Sales Executive' 'Research Scientist' 'Laboratory Technician'\n",
            " 'Manufacturing Director' 'Healthcare Representative' 'Manager'\n",
            " 'Sales Representative' 'Research Director' 'Human Resources']\n",
            "Sales Executive              326\n",
            "Research Scientist           292\n",
            "Laboratory Technician        259\n",
            "Manufacturing Director       145\n",
            "Healthcare Representative    131\n",
            "Manager                      102\n",
            "Sales Representative          83\n",
            "Research Director             80\n",
            "Human Resources               52\n",
            "Name: JobRole, dtype: int64\n",
            "_____________________________________\n",
            "MaritalStatus:['Single' 'Married' 'Divorced']\n",
            "Married     673\n",
            "Single      470\n",
            "Divorced    327\n",
            "Name: MaritalStatus, dtype: int64\n",
            "_____________________________________\n",
            "Over18:['Y']\n",
            "Y    1470\n",
            "Name: Over18, dtype: int64\n",
            "_____________________________________\n",
            "OverTime:['Yes' 'No']\n",
            "No     1054\n",
            "Yes     416\n",
            "Name: OverTime, dtype: int64\n",
            "_____________________________________\n"
          ],
          "name": "stdout"
        }
      ]
    },
    {
      "cell_type": "code",
      "metadata": {
        "id": "mBMBZNtFnB7E"
      },
      "source": [
        "useless=['Over18','EmployeeNumber','StandardHours','EmployeeCount']\n",
        "for i in useless:\n",
        "  df=df.drop(i,1)"
      ],
      "execution_count": 51,
      "outputs": []
    },
    {
      "cell_type": "code",
      "metadata": {
        "id": "404X2Mufq1gm",
        "outputId": "bc989c66-5e0d-40b9-e81e-f6179fd7003d",
        "colab": {
          "base_uri": "https://localhost:8080/"
        }
      },
      "source": [
        "df.shape"
      ],
      "execution_count": 52,
      "outputs": [
        {
          "output_type": "execute_result",
          "data": {
            "text/plain": [
              "(1470, 31)"
            ]
          },
          "metadata": {
            "tags": []
          },
          "execution_count": 52
        }
      ]
    },
    {
      "cell_type": "code",
      "metadata": {
        "id": "K0wExuYgrA7c",
        "outputId": "0137ddfc-b82f-48af-d152-87c35705009c",
        "colab": {
          "base_uri": "https://localhost:8080/",
          "height": 782
        }
      },
      "source": [
        "df.corr()"
      ],
      "execution_count": 53,
      "outputs": [
        {
          "output_type": "execute_result",
          "data": {
            "text/html": [
              "<div>\n",
              "<style scoped>\n",
              "    .dataframe tbody tr th:only-of-type {\n",
              "        vertical-align: middle;\n",
              "    }\n",
              "\n",
              "    .dataframe tbody tr th {\n",
              "        vertical-align: top;\n",
              "    }\n",
              "\n",
              "    .dataframe thead th {\n",
              "        text-align: right;\n",
              "    }\n",
              "</style>\n",
              "<table border=\"1\" class=\"dataframe\">\n",
              "  <thead>\n",
              "    <tr style=\"text-align: right;\">\n",
              "      <th></th>\n",
              "      <th>Age</th>\n",
              "      <th>DailyRate</th>\n",
              "      <th>DistanceFromHome</th>\n",
              "      <th>Education</th>\n",
              "      <th>EnvironmentSatisfaction</th>\n",
              "      <th>HourlyRate</th>\n",
              "      <th>JobInvolvement</th>\n",
              "      <th>JobLevel</th>\n",
              "      <th>JobSatisfaction</th>\n",
              "      <th>MonthlyIncome</th>\n",
              "      <th>MonthlyRate</th>\n",
              "      <th>NumCompaniesWorked</th>\n",
              "      <th>PercentSalaryHike</th>\n",
              "      <th>PerformanceRating</th>\n",
              "      <th>RelationshipSatisfaction</th>\n",
              "      <th>StockOptionLevel</th>\n",
              "      <th>TotalWorkingYears</th>\n",
              "      <th>TrainingTimesLastYear</th>\n",
              "      <th>WorkLifeBalance</th>\n",
              "      <th>YearsAtCompany</th>\n",
              "      <th>YearsInCurrentRole</th>\n",
              "      <th>YearsSinceLastPromotion</th>\n",
              "      <th>YearsWithCurrManager</th>\n",
              "    </tr>\n",
              "  </thead>\n",
              "  <tbody>\n",
              "    <tr>\n",
              "      <th>Age</th>\n",
              "      <td>1.000000</td>\n",
              "      <td>0.010661</td>\n",
              "      <td>-0.001686</td>\n",
              "      <td>0.208034</td>\n",
              "      <td>0.010146</td>\n",
              "      <td>0.024287</td>\n",
              "      <td>0.029820</td>\n",
              "      <td>0.509604</td>\n",
              "      <td>-0.004892</td>\n",
              "      <td>0.497855</td>\n",
              "      <td>0.028051</td>\n",
              "      <td>0.299635</td>\n",
              "      <td>0.003634</td>\n",
              "      <td>0.001904</td>\n",
              "      <td>0.053535</td>\n",
              "      <td>0.037510</td>\n",
              "      <td>0.680381</td>\n",
              "      <td>-0.019621</td>\n",
              "      <td>-0.021490</td>\n",
              "      <td>0.311309</td>\n",
              "      <td>0.212901</td>\n",
              "      <td>0.216513</td>\n",
              "      <td>0.202089</td>\n",
              "    </tr>\n",
              "    <tr>\n",
              "      <th>DailyRate</th>\n",
              "      <td>0.010661</td>\n",
              "      <td>1.000000</td>\n",
              "      <td>-0.004985</td>\n",
              "      <td>-0.016806</td>\n",
              "      <td>0.018355</td>\n",
              "      <td>0.023381</td>\n",
              "      <td>0.046135</td>\n",
              "      <td>0.002966</td>\n",
              "      <td>0.030571</td>\n",
              "      <td>0.007707</td>\n",
              "      <td>-0.032182</td>\n",
              "      <td>0.038153</td>\n",
              "      <td>0.022704</td>\n",
              "      <td>0.000473</td>\n",
              "      <td>0.007846</td>\n",
              "      <td>0.042143</td>\n",
              "      <td>0.014515</td>\n",
              "      <td>0.002453</td>\n",
              "      <td>-0.037848</td>\n",
              "      <td>-0.034055</td>\n",
              "      <td>0.009932</td>\n",
              "      <td>-0.033229</td>\n",
              "      <td>-0.026363</td>\n",
              "    </tr>\n",
              "    <tr>\n",
              "      <th>DistanceFromHome</th>\n",
              "      <td>-0.001686</td>\n",
              "      <td>-0.004985</td>\n",
              "      <td>1.000000</td>\n",
              "      <td>0.021042</td>\n",
              "      <td>-0.016075</td>\n",
              "      <td>0.031131</td>\n",
              "      <td>0.008783</td>\n",
              "      <td>0.005303</td>\n",
              "      <td>-0.003669</td>\n",
              "      <td>-0.017014</td>\n",
              "      <td>0.027473</td>\n",
              "      <td>-0.029251</td>\n",
              "      <td>0.040235</td>\n",
              "      <td>0.027110</td>\n",
              "      <td>0.006557</td>\n",
              "      <td>0.044872</td>\n",
              "      <td>0.004628</td>\n",
              "      <td>-0.036942</td>\n",
              "      <td>-0.026556</td>\n",
              "      <td>0.009508</td>\n",
              "      <td>0.018845</td>\n",
              "      <td>0.010029</td>\n",
              "      <td>0.014406</td>\n",
              "    </tr>\n",
              "    <tr>\n",
              "      <th>Education</th>\n",
              "      <td>0.208034</td>\n",
              "      <td>-0.016806</td>\n",
              "      <td>0.021042</td>\n",
              "      <td>1.000000</td>\n",
              "      <td>-0.027128</td>\n",
              "      <td>0.016775</td>\n",
              "      <td>0.042438</td>\n",
              "      <td>0.101589</td>\n",
              "      <td>-0.011296</td>\n",
              "      <td>0.094961</td>\n",
              "      <td>-0.026084</td>\n",
              "      <td>0.126317</td>\n",
              "      <td>-0.011111</td>\n",
              "      <td>-0.024539</td>\n",
              "      <td>-0.009118</td>\n",
              "      <td>0.018422</td>\n",
              "      <td>0.148280</td>\n",
              "      <td>-0.025100</td>\n",
              "      <td>0.009819</td>\n",
              "      <td>0.069114</td>\n",
              "      <td>0.060236</td>\n",
              "      <td>0.054254</td>\n",
              "      <td>0.069065</td>\n",
              "    </tr>\n",
              "    <tr>\n",
              "      <th>EnvironmentSatisfaction</th>\n",
              "      <td>0.010146</td>\n",
              "      <td>0.018355</td>\n",
              "      <td>-0.016075</td>\n",
              "      <td>-0.027128</td>\n",
              "      <td>1.000000</td>\n",
              "      <td>-0.049857</td>\n",
              "      <td>-0.008278</td>\n",
              "      <td>0.001212</td>\n",
              "      <td>-0.006784</td>\n",
              "      <td>-0.006259</td>\n",
              "      <td>0.037600</td>\n",
              "      <td>0.012594</td>\n",
              "      <td>-0.031701</td>\n",
              "      <td>-0.029548</td>\n",
              "      <td>0.007665</td>\n",
              "      <td>0.003432</td>\n",
              "      <td>-0.002693</td>\n",
              "      <td>-0.019359</td>\n",
              "      <td>0.027627</td>\n",
              "      <td>0.001458</td>\n",
              "      <td>0.018007</td>\n",
              "      <td>0.016194</td>\n",
              "      <td>-0.004999</td>\n",
              "    </tr>\n",
              "    <tr>\n",
              "      <th>HourlyRate</th>\n",
              "      <td>0.024287</td>\n",
              "      <td>0.023381</td>\n",
              "      <td>0.031131</td>\n",
              "      <td>0.016775</td>\n",
              "      <td>-0.049857</td>\n",
              "      <td>1.000000</td>\n",
              "      <td>0.042861</td>\n",
              "      <td>-0.027853</td>\n",
              "      <td>-0.071335</td>\n",
              "      <td>-0.015794</td>\n",
              "      <td>-0.015297</td>\n",
              "      <td>0.022157</td>\n",
              "      <td>-0.009062</td>\n",
              "      <td>-0.002172</td>\n",
              "      <td>0.001330</td>\n",
              "      <td>0.050263</td>\n",
              "      <td>-0.002334</td>\n",
              "      <td>-0.008548</td>\n",
              "      <td>-0.004607</td>\n",
              "      <td>-0.019582</td>\n",
              "      <td>-0.024106</td>\n",
              "      <td>-0.026716</td>\n",
              "      <td>-0.020123</td>\n",
              "    </tr>\n",
              "    <tr>\n",
              "      <th>JobInvolvement</th>\n",
              "      <td>0.029820</td>\n",
              "      <td>0.046135</td>\n",
              "      <td>0.008783</td>\n",
              "      <td>0.042438</td>\n",
              "      <td>-0.008278</td>\n",
              "      <td>0.042861</td>\n",
              "      <td>1.000000</td>\n",
              "      <td>-0.012630</td>\n",
              "      <td>-0.021476</td>\n",
              "      <td>-0.015271</td>\n",
              "      <td>-0.016322</td>\n",
              "      <td>0.015012</td>\n",
              "      <td>-0.017205</td>\n",
              "      <td>-0.029071</td>\n",
              "      <td>0.034297</td>\n",
              "      <td>0.021523</td>\n",
              "      <td>-0.005533</td>\n",
              "      <td>-0.015338</td>\n",
              "      <td>-0.014617</td>\n",
              "      <td>-0.021355</td>\n",
              "      <td>0.008717</td>\n",
              "      <td>-0.024184</td>\n",
              "      <td>0.025976</td>\n",
              "    </tr>\n",
              "    <tr>\n",
              "      <th>JobLevel</th>\n",
              "      <td>0.509604</td>\n",
              "      <td>0.002966</td>\n",
              "      <td>0.005303</td>\n",
              "      <td>0.101589</td>\n",
              "      <td>0.001212</td>\n",
              "      <td>-0.027853</td>\n",
              "      <td>-0.012630</td>\n",
              "      <td>1.000000</td>\n",
              "      <td>-0.001944</td>\n",
              "      <td>0.950300</td>\n",
              "      <td>0.039563</td>\n",
              "      <td>0.142501</td>\n",
              "      <td>-0.034730</td>\n",
              "      <td>-0.021222</td>\n",
              "      <td>0.021642</td>\n",
              "      <td>0.013984</td>\n",
              "      <td>0.782208</td>\n",
              "      <td>-0.018191</td>\n",
              "      <td>0.037818</td>\n",
              "      <td>0.534739</td>\n",
              "      <td>0.389447</td>\n",
              "      <td>0.353885</td>\n",
              "      <td>0.375281</td>\n",
              "    </tr>\n",
              "    <tr>\n",
              "      <th>JobSatisfaction</th>\n",
              "      <td>-0.004892</td>\n",
              "      <td>0.030571</td>\n",
              "      <td>-0.003669</td>\n",
              "      <td>-0.011296</td>\n",
              "      <td>-0.006784</td>\n",
              "      <td>-0.071335</td>\n",
              "      <td>-0.021476</td>\n",
              "      <td>-0.001944</td>\n",
              "      <td>1.000000</td>\n",
              "      <td>-0.007157</td>\n",
              "      <td>0.000644</td>\n",
              "      <td>-0.055699</td>\n",
              "      <td>0.020002</td>\n",
              "      <td>0.002297</td>\n",
              "      <td>-0.012454</td>\n",
              "      <td>0.010690</td>\n",
              "      <td>-0.020185</td>\n",
              "      <td>-0.005779</td>\n",
              "      <td>-0.019459</td>\n",
              "      <td>-0.003803</td>\n",
              "      <td>-0.002305</td>\n",
              "      <td>-0.018214</td>\n",
              "      <td>-0.027656</td>\n",
              "    </tr>\n",
              "    <tr>\n",
              "      <th>MonthlyIncome</th>\n",
              "      <td>0.497855</td>\n",
              "      <td>0.007707</td>\n",
              "      <td>-0.017014</td>\n",
              "      <td>0.094961</td>\n",
              "      <td>-0.006259</td>\n",
              "      <td>-0.015794</td>\n",
              "      <td>-0.015271</td>\n",
              "      <td>0.950300</td>\n",
              "      <td>-0.007157</td>\n",
              "      <td>1.000000</td>\n",
              "      <td>0.034814</td>\n",
              "      <td>0.149515</td>\n",
              "      <td>-0.027269</td>\n",
              "      <td>-0.017120</td>\n",
              "      <td>0.025873</td>\n",
              "      <td>0.005408</td>\n",
              "      <td>0.772893</td>\n",
              "      <td>-0.021736</td>\n",
              "      <td>0.030683</td>\n",
              "      <td>0.514285</td>\n",
              "      <td>0.363818</td>\n",
              "      <td>0.344978</td>\n",
              "      <td>0.344079</td>\n",
              "    </tr>\n",
              "    <tr>\n",
              "      <th>MonthlyRate</th>\n",
              "      <td>0.028051</td>\n",
              "      <td>-0.032182</td>\n",
              "      <td>0.027473</td>\n",
              "      <td>-0.026084</td>\n",
              "      <td>0.037600</td>\n",
              "      <td>-0.015297</td>\n",
              "      <td>-0.016322</td>\n",
              "      <td>0.039563</td>\n",
              "      <td>0.000644</td>\n",
              "      <td>0.034814</td>\n",
              "      <td>1.000000</td>\n",
              "      <td>0.017521</td>\n",
              "      <td>-0.006429</td>\n",
              "      <td>-0.009811</td>\n",
              "      <td>-0.004085</td>\n",
              "      <td>-0.034323</td>\n",
              "      <td>0.026442</td>\n",
              "      <td>0.001467</td>\n",
              "      <td>0.007963</td>\n",
              "      <td>-0.023655</td>\n",
              "      <td>-0.012815</td>\n",
              "      <td>0.001567</td>\n",
              "      <td>-0.036746</td>\n",
              "    </tr>\n",
              "    <tr>\n",
              "      <th>NumCompaniesWorked</th>\n",
              "      <td>0.299635</td>\n",
              "      <td>0.038153</td>\n",
              "      <td>-0.029251</td>\n",
              "      <td>0.126317</td>\n",
              "      <td>0.012594</td>\n",
              "      <td>0.022157</td>\n",
              "      <td>0.015012</td>\n",
              "      <td>0.142501</td>\n",
              "      <td>-0.055699</td>\n",
              "      <td>0.149515</td>\n",
              "      <td>0.017521</td>\n",
              "      <td>1.000000</td>\n",
              "      <td>-0.010238</td>\n",
              "      <td>-0.014095</td>\n",
              "      <td>0.052733</td>\n",
              "      <td>0.030075</td>\n",
              "      <td>0.237639</td>\n",
              "      <td>-0.066054</td>\n",
              "      <td>-0.008366</td>\n",
              "      <td>-0.118421</td>\n",
              "      <td>-0.090754</td>\n",
              "      <td>-0.036814</td>\n",
              "      <td>-0.110319</td>\n",
              "    </tr>\n",
              "    <tr>\n",
              "      <th>PercentSalaryHike</th>\n",
              "      <td>0.003634</td>\n",
              "      <td>0.022704</td>\n",
              "      <td>0.040235</td>\n",
              "      <td>-0.011111</td>\n",
              "      <td>-0.031701</td>\n",
              "      <td>-0.009062</td>\n",
              "      <td>-0.017205</td>\n",
              "      <td>-0.034730</td>\n",
              "      <td>0.020002</td>\n",
              "      <td>-0.027269</td>\n",
              "      <td>-0.006429</td>\n",
              "      <td>-0.010238</td>\n",
              "      <td>1.000000</td>\n",
              "      <td>0.773550</td>\n",
              "      <td>-0.040490</td>\n",
              "      <td>0.007528</td>\n",
              "      <td>-0.020608</td>\n",
              "      <td>-0.005221</td>\n",
              "      <td>-0.003280</td>\n",
              "      <td>-0.035991</td>\n",
              "      <td>-0.001520</td>\n",
              "      <td>-0.022154</td>\n",
              "      <td>-0.011985</td>\n",
              "    </tr>\n",
              "    <tr>\n",
              "      <th>PerformanceRating</th>\n",
              "      <td>0.001904</td>\n",
              "      <td>0.000473</td>\n",
              "      <td>0.027110</td>\n",
              "      <td>-0.024539</td>\n",
              "      <td>-0.029548</td>\n",
              "      <td>-0.002172</td>\n",
              "      <td>-0.029071</td>\n",
              "      <td>-0.021222</td>\n",
              "      <td>0.002297</td>\n",
              "      <td>-0.017120</td>\n",
              "      <td>-0.009811</td>\n",
              "      <td>-0.014095</td>\n",
              "      <td>0.773550</td>\n",
              "      <td>1.000000</td>\n",
              "      <td>-0.031351</td>\n",
              "      <td>0.003506</td>\n",
              "      <td>0.006744</td>\n",
              "      <td>-0.015579</td>\n",
              "      <td>0.002572</td>\n",
              "      <td>0.003435</td>\n",
              "      <td>0.034986</td>\n",
              "      <td>0.017896</td>\n",
              "      <td>0.022827</td>\n",
              "    </tr>\n",
              "    <tr>\n",
              "      <th>RelationshipSatisfaction</th>\n",
              "      <td>0.053535</td>\n",
              "      <td>0.007846</td>\n",
              "      <td>0.006557</td>\n",
              "      <td>-0.009118</td>\n",
              "      <td>0.007665</td>\n",
              "      <td>0.001330</td>\n",
              "      <td>0.034297</td>\n",
              "      <td>0.021642</td>\n",
              "      <td>-0.012454</td>\n",
              "      <td>0.025873</td>\n",
              "      <td>-0.004085</td>\n",
              "      <td>0.052733</td>\n",
              "      <td>-0.040490</td>\n",
              "      <td>-0.031351</td>\n",
              "      <td>1.000000</td>\n",
              "      <td>-0.045952</td>\n",
              "      <td>0.024054</td>\n",
              "      <td>0.002497</td>\n",
              "      <td>0.019604</td>\n",
              "      <td>0.019367</td>\n",
              "      <td>-0.015123</td>\n",
              "      <td>0.033493</td>\n",
              "      <td>-0.000867</td>\n",
              "    </tr>\n",
              "    <tr>\n",
              "      <th>StockOptionLevel</th>\n",
              "      <td>0.037510</td>\n",
              "      <td>0.042143</td>\n",
              "      <td>0.044872</td>\n",
              "      <td>0.018422</td>\n",
              "      <td>0.003432</td>\n",
              "      <td>0.050263</td>\n",
              "      <td>0.021523</td>\n",
              "      <td>0.013984</td>\n",
              "      <td>0.010690</td>\n",
              "      <td>0.005408</td>\n",
              "      <td>-0.034323</td>\n",
              "      <td>0.030075</td>\n",
              "      <td>0.007528</td>\n",
              "      <td>0.003506</td>\n",
              "      <td>-0.045952</td>\n",
              "      <td>1.000000</td>\n",
              "      <td>0.010136</td>\n",
              "      <td>0.011274</td>\n",
              "      <td>0.004129</td>\n",
              "      <td>0.015058</td>\n",
              "      <td>0.050818</td>\n",
              "      <td>0.014352</td>\n",
              "      <td>0.024698</td>\n",
              "    </tr>\n",
              "    <tr>\n",
              "      <th>TotalWorkingYears</th>\n",
              "      <td>0.680381</td>\n",
              "      <td>0.014515</td>\n",
              "      <td>0.004628</td>\n",
              "      <td>0.148280</td>\n",
              "      <td>-0.002693</td>\n",
              "      <td>-0.002334</td>\n",
              "      <td>-0.005533</td>\n",
              "      <td>0.782208</td>\n",
              "      <td>-0.020185</td>\n",
              "      <td>0.772893</td>\n",
              "      <td>0.026442</td>\n",
              "      <td>0.237639</td>\n",
              "      <td>-0.020608</td>\n",
              "      <td>0.006744</td>\n",
              "      <td>0.024054</td>\n",
              "      <td>0.010136</td>\n",
              "      <td>1.000000</td>\n",
              "      <td>-0.035662</td>\n",
              "      <td>0.001008</td>\n",
              "      <td>0.628133</td>\n",
              "      <td>0.460365</td>\n",
              "      <td>0.404858</td>\n",
              "      <td>0.459188</td>\n",
              "    </tr>\n",
              "    <tr>\n",
              "      <th>TrainingTimesLastYear</th>\n",
              "      <td>-0.019621</td>\n",
              "      <td>0.002453</td>\n",
              "      <td>-0.036942</td>\n",
              "      <td>-0.025100</td>\n",
              "      <td>-0.019359</td>\n",
              "      <td>-0.008548</td>\n",
              "      <td>-0.015338</td>\n",
              "      <td>-0.018191</td>\n",
              "      <td>-0.005779</td>\n",
              "      <td>-0.021736</td>\n",
              "      <td>0.001467</td>\n",
              "      <td>-0.066054</td>\n",
              "      <td>-0.005221</td>\n",
              "      <td>-0.015579</td>\n",
              "      <td>0.002497</td>\n",
              "      <td>0.011274</td>\n",
              "      <td>-0.035662</td>\n",
              "      <td>1.000000</td>\n",
              "      <td>0.028072</td>\n",
              "      <td>0.003569</td>\n",
              "      <td>-0.005738</td>\n",
              "      <td>-0.002067</td>\n",
              "      <td>-0.004096</td>\n",
              "    </tr>\n",
              "    <tr>\n",
              "      <th>WorkLifeBalance</th>\n",
              "      <td>-0.021490</td>\n",
              "      <td>-0.037848</td>\n",
              "      <td>-0.026556</td>\n",
              "      <td>0.009819</td>\n",
              "      <td>0.027627</td>\n",
              "      <td>-0.004607</td>\n",
              "      <td>-0.014617</td>\n",
              "      <td>0.037818</td>\n",
              "      <td>-0.019459</td>\n",
              "      <td>0.030683</td>\n",
              "      <td>0.007963</td>\n",
              "      <td>-0.008366</td>\n",
              "      <td>-0.003280</td>\n",
              "      <td>0.002572</td>\n",
              "      <td>0.019604</td>\n",
              "      <td>0.004129</td>\n",
              "      <td>0.001008</td>\n",
              "      <td>0.028072</td>\n",
              "      <td>1.000000</td>\n",
              "      <td>0.012089</td>\n",
              "      <td>0.049856</td>\n",
              "      <td>0.008941</td>\n",
              "      <td>0.002759</td>\n",
              "    </tr>\n",
              "    <tr>\n",
              "      <th>YearsAtCompany</th>\n",
              "      <td>0.311309</td>\n",
              "      <td>-0.034055</td>\n",
              "      <td>0.009508</td>\n",
              "      <td>0.069114</td>\n",
              "      <td>0.001458</td>\n",
              "      <td>-0.019582</td>\n",
              "      <td>-0.021355</td>\n",
              "      <td>0.534739</td>\n",
              "      <td>-0.003803</td>\n",
              "      <td>0.514285</td>\n",
              "      <td>-0.023655</td>\n",
              "      <td>-0.118421</td>\n",
              "      <td>-0.035991</td>\n",
              "      <td>0.003435</td>\n",
              "      <td>0.019367</td>\n",
              "      <td>0.015058</td>\n",
              "      <td>0.628133</td>\n",
              "      <td>0.003569</td>\n",
              "      <td>0.012089</td>\n",
              "      <td>1.000000</td>\n",
              "      <td>0.758754</td>\n",
              "      <td>0.618409</td>\n",
              "      <td>0.769212</td>\n",
              "    </tr>\n",
              "    <tr>\n",
              "      <th>YearsInCurrentRole</th>\n",
              "      <td>0.212901</td>\n",
              "      <td>0.009932</td>\n",
              "      <td>0.018845</td>\n",
              "      <td>0.060236</td>\n",
              "      <td>0.018007</td>\n",
              "      <td>-0.024106</td>\n",
              "      <td>0.008717</td>\n",
              "      <td>0.389447</td>\n",
              "      <td>-0.002305</td>\n",
              "      <td>0.363818</td>\n",
              "      <td>-0.012815</td>\n",
              "      <td>-0.090754</td>\n",
              "      <td>-0.001520</td>\n",
              "      <td>0.034986</td>\n",
              "      <td>-0.015123</td>\n",
              "      <td>0.050818</td>\n",
              "      <td>0.460365</td>\n",
              "      <td>-0.005738</td>\n",
              "      <td>0.049856</td>\n",
              "      <td>0.758754</td>\n",
              "      <td>1.000000</td>\n",
              "      <td>0.548056</td>\n",
              "      <td>0.714365</td>\n",
              "    </tr>\n",
              "    <tr>\n",
              "      <th>YearsSinceLastPromotion</th>\n",
              "      <td>0.216513</td>\n",
              "      <td>-0.033229</td>\n",
              "      <td>0.010029</td>\n",
              "      <td>0.054254</td>\n",
              "      <td>0.016194</td>\n",
              "      <td>-0.026716</td>\n",
              "      <td>-0.024184</td>\n",
              "      <td>0.353885</td>\n",
              "      <td>-0.018214</td>\n",
              "      <td>0.344978</td>\n",
              "      <td>0.001567</td>\n",
              "      <td>-0.036814</td>\n",
              "      <td>-0.022154</td>\n",
              "      <td>0.017896</td>\n",
              "      <td>0.033493</td>\n",
              "      <td>0.014352</td>\n",
              "      <td>0.404858</td>\n",
              "      <td>-0.002067</td>\n",
              "      <td>0.008941</td>\n",
              "      <td>0.618409</td>\n",
              "      <td>0.548056</td>\n",
              "      <td>1.000000</td>\n",
              "      <td>0.510224</td>\n",
              "    </tr>\n",
              "    <tr>\n",
              "      <th>YearsWithCurrManager</th>\n",
              "      <td>0.202089</td>\n",
              "      <td>-0.026363</td>\n",
              "      <td>0.014406</td>\n",
              "      <td>0.069065</td>\n",
              "      <td>-0.004999</td>\n",
              "      <td>-0.020123</td>\n",
              "      <td>0.025976</td>\n",
              "      <td>0.375281</td>\n",
              "      <td>-0.027656</td>\n",
              "      <td>0.344079</td>\n",
              "      <td>-0.036746</td>\n",
              "      <td>-0.110319</td>\n",
              "      <td>-0.011985</td>\n",
              "      <td>0.022827</td>\n",
              "      <td>-0.000867</td>\n",
              "      <td>0.024698</td>\n",
              "      <td>0.459188</td>\n",
              "      <td>-0.004096</td>\n",
              "      <td>0.002759</td>\n",
              "      <td>0.769212</td>\n",
              "      <td>0.714365</td>\n",
              "      <td>0.510224</td>\n",
              "      <td>1.000000</td>\n",
              "    </tr>\n",
              "  </tbody>\n",
              "</table>\n",
              "</div>"
            ],
            "text/plain": [
              "                               Age  ...  YearsWithCurrManager\n",
              "Age                       1.000000  ...              0.202089\n",
              "DailyRate                 0.010661  ...             -0.026363\n",
              "DistanceFromHome         -0.001686  ...              0.014406\n",
              "Education                 0.208034  ...              0.069065\n",
              "EnvironmentSatisfaction   0.010146  ...             -0.004999\n",
              "HourlyRate                0.024287  ...             -0.020123\n",
              "JobInvolvement            0.029820  ...              0.025976\n",
              "JobLevel                  0.509604  ...              0.375281\n",
              "JobSatisfaction          -0.004892  ...             -0.027656\n",
              "MonthlyIncome             0.497855  ...              0.344079\n",
              "MonthlyRate               0.028051  ...             -0.036746\n",
              "NumCompaniesWorked        0.299635  ...             -0.110319\n",
              "PercentSalaryHike         0.003634  ...             -0.011985\n",
              "PerformanceRating         0.001904  ...              0.022827\n",
              "RelationshipSatisfaction  0.053535  ...             -0.000867\n",
              "StockOptionLevel          0.037510  ...              0.024698\n",
              "TotalWorkingYears         0.680381  ...              0.459188\n",
              "TrainingTimesLastYear    -0.019621  ...             -0.004096\n",
              "WorkLifeBalance          -0.021490  ...              0.002759\n",
              "YearsAtCompany            0.311309  ...              0.769212\n",
              "YearsInCurrentRole        0.212901  ...              0.714365\n",
              "YearsSinceLastPromotion   0.216513  ...              0.510224\n",
              "YearsWithCurrManager      0.202089  ...              1.000000\n",
              "\n",
              "[23 rows x 23 columns]"
            ]
          },
          "metadata": {
            "tags": []
          },
          "execution_count": 53
        }
      ]
    },
    {
      "cell_type": "code",
      "metadata": {
        "id": "GLJn3EHVrYW_",
        "outputId": "ed8eb0ef-cf4a-40ba-b2db-0ef9c9c10a7a",
        "colab": {
          "base_uri": "https://localhost:8080/",
          "height": 836
        }
      },
      "source": [
        "plt.figure(figsize=(12,12))\n",
        "sns.heatmap(df.corr(),annot=True,fmt='.0%')"
      ],
      "execution_count": 57,
      "outputs": [
        {
          "output_type": "execute_result",
          "data": {
            "text/plain": [
              "<matplotlib.axes._subplots.AxesSubplot at 0x7f948ffe9358>"
            ]
          },
          "metadata": {
            "tags": []
          },
          "execution_count": 57
        },
        {
          "output_type": "display_data",
          "data": {
            "image/png": "[encoded data removed]",
            "text/plain": [
              "<Figure size 864x864 with 2 Axes>"
            ]
          },
          "metadata": {
            "tags": [],
            "needs_background": "light"
          }
        }
      ]
    },
    {
      "cell_type": "code",
      "metadata": {
        "id": "UxD93CFRrmwO"
      },
      "source": [
        "#data scaling\n",
        "from sklearn.preprocessing import  LabelEncoder\n",
        "\n",
        "\n",
        "for column in df.columns:\n",
        "  if df[column].dtypes== np.number:\n",
        "    continue\n",
        "  df[column] = LabelEncoder().fit_transform(df[column])"
      ],
      "execution_count": 59,
      "outputs": []
    },
    {
      "cell_type": "code",
      "metadata": {
        "id": "sCOROsLwuTby",
        "outputId": "6e480a0b-52a1-4b53-bc8e-b59dc8ebe697",
        "colab": {
          "base_uri": "https://localhost:8080/",
          "height": 131
        }
      },
      "source": [
        "df.head(2)"
      ],
      "execution_count": 61,
      "outputs": [
        {
          "output_type": "execute_result",
          "data": {
            "text/html": [
              "<div>\n",
              "<style scoped>\n",
              "    .dataframe tbody tr th:only-of-type {\n",
              "        vertical-align: middle;\n",
              "    }\n",
              "\n",
              "    .dataframe tbody tr th {\n",
              "        vertical-align: top;\n",
              "    }\n",
              "\n",
              "    .dataframe thead th {\n",
              "        text-align: right;\n",
              "    }\n",
              "</style>\n",
              "<table border=\"1\" class=\"dataframe\">\n",
              "  <thead>\n",
              "    <tr style=\"text-align: right;\">\n",
              "      <th></th>\n",
              "      <th>Age</th>\n",
              "      <th>Attrition</th>\n",
              "      <th>BusinessTravel</th>\n",
              "      <th>DailyRate</th>\n",
              "      <th>Department</th>\n",
              "      <th>DistanceFromHome</th>\n",
              "      <th>Education</th>\n",
              "      <th>EducationField</th>\n",
              "      <th>EnvironmentSatisfaction</th>\n",
              "      <th>Gender</th>\n",
              "      <th>HourlyRate</th>\n",
              "      <th>JobInvolvement</th>\n",
              "      <th>JobLevel</th>\n",
              "      <th>JobRole</th>\n",
              "      <th>JobSatisfaction</th>\n",
              "      <th>MaritalStatus</th>\n",
              "      <th>MonthlyIncome</th>\n",
              "      <th>MonthlyRate</th>\n",
              "      <th>NumCompaniesWorked</th>\n",
              "      <th>OverTime</th>\n",
              "      <th>PercentSalaryHike</th>\n",
              "      <th>PerformanceRating</th>\n",
              "      <th>RelationshipSatisfaction</th>\n",
              "      <th>StockOptionLevel</th>\n",
              "      <th>TotalWorkingYears</th>\n",
              "      <th>TrainingTimesLastYear</th>\n",
              "      <th>WorkLifeBalance</th>\n",
              "      <th>YearsAtCompany</th>\n",
              "      <th>YearsInCurrentRole</th>\n",
              "      <th>YearsSinceLastPromotion</th>\n",
              "      <th>YearsWithCurrManager</th>\n",
              "    </tr>\n",
              "  </thead>\n",
              "  <tbody>\n",
              "    <tr>\n",
              "      <th>0</th>\n",
              "      <td>23</td>\n",
              "      <td>1</td>\n",
              "      <td>2</td>\n",
              "      <td>624</td>\n",
              "      <td>2</td>\n",
              "      <td>0</td>\n",
              "      <td>1</td>\n",
              "      <td>1</td>\n",
              "      <td>1</td>\n",
              "      <td>0</td>\n",
              "      <td>64</td>\n",
              "      <td>2</td>\n",
              "      <td>1</td>\n",
              "      <td>7</td>\n",
              "      <td>3</td>\n",
              "      <td>2</td>\n",
              "      <td>809</td>\n",
              "      <td>999</td>\n",
              "      <td>8</td>\n",
              "      <td>1</td>\n",
              "      <td>0</td>\n",
              "      <td>0</td>\n",
              "      <td>0</td>\n",
              "      <td>0</td>\n",
              "      <td>8</td>\n",
              "      <td>0</td>\n",
              "      <td>0</td>\n",
              "      <td>6</td>\n",
              "      <td>4</td>\n",
              "      <td>0</td>\n",
              "      <td>5</td>\n",
              "    </tr>\n",
              "    <tr>\n",
              "      <th>1</th>\n",
              "      <td>31</td>\n",
              "      <td>0</td>\n",
              "      <td>1</td>\n",
              "      <td>113</td>\n",
              "      <td>1</td>\n",
              "      <td>7</td>\n",
              "      <td>0</td>\n",
              "      <td>1</td>\n",
              "      <td>2</td>\n",
              "      <td>1</td>\n",
              "      <td>31</td>\n",
              "      <td>1</td>\n",
              "      <td>1</td>\n",
              "      <td>6</td>\n",
              "      <td>1</td>\n",
              "      <td>1</td>\n",
              "      <td>682</td>\n",
              "      <td>1328</td>\n",
              "      <td>1</td>\n",
              "      <td>0</td>\n",
              "      <td>12</td>\n",
              "      <td>1</td>\n",
              "      <td>3</td>\n",
              "      <td>1</td>\n",
              "      <td>10</td>\n",
              "      <td>3</td>\n",
              "      <td>2</td>\n",
              "      <td>10</td>\n",
              "      <td>7</td>\n",
              "      <td>1</td>\n",
              "      <td>7</td>\n",
              "    </tr>\n",
              "  </tbody>\n",
              "</table>\n",
              "</div>"
            ],
            "text/plain": [
              "   Age  Attrition  ...  YearsSinceLastPromotion  YearsWithCurrManager\n",
              "0   23          1  ...                        0                     5\n",
              "1   31          0  ...                        1                     7\n",
              "\n",
              "[2 rows x 31 columns]"
            ]
          },
          "metadata": {
            "tags": []
          },
          "execution_count": 61
        }
      ]
    },
    {
      "cell_type": "code",
      "metadata": {
        "id": "f_0kq_YYuWpT"
      },
      "source": [
        "df['age']=df['Age']"
      ],
      "execution_count": 62,
      "outputs": []
    },
    {
      "cell_type": "code",
      "metadata": {
        "id": "Nez2lYk0ur8s"
      },
      "source": [
        "df=df.drop('Age',1)"
      ],
      "execution_count": 63,
      "outputs": []
    },
    {
      "cell_type": "code",
      "metadata": {
        "id": "82NQVG-zuxTq"
      },
      "source": [
        "#split the data\n",
        "X= df.iloc[:,1:df.shape[1]].values\n",
        "y=df.iloc[:,0].values"
      ],
      "execution_count": 74,
      "outputs": []
    },
    {
      "cell_type": "code",
      "metadata": {
        "id": "JzPcwmgRvfS3",
        "outputId": "257d1138-0794-4ff3-a9cc-2f4de61ff1df",
        "colab": {
          "base_uri": "https://localhost:8080/"
        }
      },
      "source": [
        "X.shape,y.shape"
      ],
      "execution_count": 75,
      "outputs": [
        {
          "output_type": "execute_result",
          "data": {
            "text/plain": [
              "((1470, 30), (1470,))"
            ]
          },
          "metadata": {
            "tags": []
          },
          "execution_count": 75
        }
      ]
    },
    {
      "cell_type": "code",
      "metadata": {
        "id": "aslQb9LFvghf"
      },
      "source": [
        "from sklearn.model_selection import train_test_split\n",
        "X_train,X_test,y_train,y_test=train_test_split(X,y,test_size=0.25,random_state=0\n",
        "                                               \n",
        "                                               )"
      ],
      "execution_count": 83,
      "outputs": []
    },
    {
      "cell_type": "code",
      "metadata": {
        "id": "S9an6zjHwb1z",
        "outputId": "02b26605-6b3a-4026-cf20-5b203f66baaf",
        "colab": {
          "base_uri": "https://localhost:8080/"
        }
      },
      "source": [
        "from sklearn.ensemble import RandomForestClassifier\n",
        "forest=RandomForestClassifier(n_estimators=10,criterion='entropy',random_state=0)\n",
        "forest.fit(X_train,y_train)"
      ],
      "execution_count": 84,
      "outputs": [
        {
          "output_type": "execute_result",
          "data": {
            "text/plain": [
              "RandomForestClassifier(bootstrap=True, ccp_alpha=0.0, class_weight=None,\n",
              "                       criterion='entropy', max_depth=None, max_features='auto',\n",
              "                       max_leaf_nodes=None, max_samples=None,\n",
              "                       min_impurity_decrease=0.0, min_impurity_split=None,\n",
              "                       min_samples_leaf=1, min_samples_split=2,\n",
              "                       min_weight_fraction_leaf=0.0, n_estimators=10,\n",
              "                       n_jobs=None, oob_score=False, random_state=0, verbose=0,\n",
              "                       warm_start=False)"
            ]
          },
          "metadata": {
            "tags": []
          },
          "execution_count": 84
        }
      ]
    },
    {
      "cell_type": "code",
      "metadata": {
        "id": "jMsDhkpYw6SB",
        "outputId": "ae4123e7-ad41-4222-b48a-acfa1fbf9249",
        "colab": {
          "base_uri": "https://localhost:8080/"
        }
      },
      "source": [
        "forest.score(X_train,y_train)"
      ],
      "execution_count": 85,
      "outputs": [
        {
          "output_type": "execute_result",
          "data": {
            "text/plain": [
              "0.9791288566243194"
            ]
          },
          "metadata": {
            "tags": []
          },
          "execution_count": 85
        }
      ]
    },
    {
      "cell_type": "code",
      "metadata": {
        "id": "lkLPBoy6xF8q",
        "outputId": "418c338e-514a-467b-8d2a-a57a2e238dfe",
        "colab": {
          "base_uri": "https://localhost:8080/"
        }
      },
      "source": [
        "#checking accuracy and confusion matrix for the test set\n",
        "from sklearn.metrics import confusion_matrix\n",
        "\n",
        "cm=confusion_matrix(y_test,forest.predict(X_test))\n",
        "\n",
        "tn=cm[0][0]\n",
        "tp=cm[1][1]\n",
        "fn=cm[1][0]\n",
        "fp=cm[0][1]\n",
        "\n",
        "print(cm)\n",
        "print(format((tp+tn)/(tp+tn+fn+fp)))"
      ],
      "execution_count": 86,
      "outputs": [
        {
          "output_type": "stream",
          "text": [
            "[[309   1]\n",
            " [ 49   9]]\n",
            "0.8641304347826086\n"
          ],
          "name": "stdout"
        }
      ]
    },
    {
      "cell_type": "code",
      "metadata": {
        "id": "IZelH-LzyHT5"
      },
      "source": [
        ""
      ],
      "execution_count": null,
      "outputs": []
    }
  ]
}